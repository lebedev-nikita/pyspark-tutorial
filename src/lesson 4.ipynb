{
 "cells": [
  {
   "cell_type": "code",
   "execution_count": 15,
   "id": "9fe72fe7-000d-4125-bc90-4aec370807ce",
   "metadata": {},
   "outputs": [],
   "source": [
    "from pyspark.sql import SparkSession\n",
    "spark = SparkSession.builder.appName(\"Practice\").getOrCreate()"
   ]
  },
  {
   "cell_type": "code",
   "execution_count": 16,
   "id": "7c0add01-f1b6-4e96-9e90-0183ca52b4de",
   "metadata": {},
   "outputs": [],
   "source": [
    "df = spark.read.csv('data.csv', header=True, inferSchema=True)"
   ]
  },
  {
   "cell_type": "code",
   "execution_count": 17,
   "id": "1fe7a021-d5f6-4c47-98c3-f8be89a831fb",
   "metadata": {},
   "outputs": [
    {
     "name": "stdout",
     "output_type": "stream",
     "text": [
      "+---------+----+----------+------+\n",
      "|     Name| Age|Experience|Salary|\n",
      "+---------+----+----------+------+\n",
      "|    Krish|  31|        10| 65518|\n",
      "|Sudhanshu|  30|         4|  4122|\n",
      "|    Sunny|  29|         8| 15359|\n",
      "|     Sofa|NULL|      NULL| 25359|\n",
      "|     NULL|  29|         8| 35359|\n",
      "|    Nikky|  29|         8|  NULL|\n",
      "|     NULL|NULL|      NULL|  NULL|\n",
      "+---------+----+----------+------+\n",
      "\n"
     ]
    }
   ],
   "source": [
    "df.show()"
   ]
  },
  {
   "cell_type": "code",
   "execution_count": 23,
   "id": "645fd8ef-e46d-48da-8d01-9e0793ec06a0",
   "metadata": {},
   "outputs": [
    {
     "name": "stdout",
     "output_type": "stream",
     "text": [
      "+---------+----+\n",
      "|     Name| Age|\n",
      "+---------+----+\n",
      "|Sudhanshu|  30|\n",
      "|    Sunny|  29|\n",
      "|     Sofa|NULL|\n",
      "+---------+----+\n",
      "\n"
     ]
    }
   ],
   "source": [
    "df.filter(\"Salary<=30000\").select([\"Name\",'Age']).show()"
   ]
  },
  {
   "cell_type": "code",
   "execution_count": 26,
   "id": "42dea763-3ae5-47a0-81f9-2bc64b9ab2a5",
   "metadata": {},
   "outputs": [
    {
     "name": "stdout",
     "output_type": "stream",
     "text": [
      "+-----+----+----------+------+\n",
      "| Name| Age|Experience|Salary|\n",
      "+-----+----+----------+------+\n",
      "|Sunny|  29|         8| 15359|\n",
      "| Sofa|NULL|      NULL| 25359|\n",
      "+-----+----+----------+------+\n",
      "\n"
     ]
    }
   ],
   "source": [
    "df.filter((df['Salary'] <= 30000) & (df['Salary'] >= 10000)).show()"
   ]
  },
  {
   "cell_type": "code",
   "execution_count": null,
   "id": "b28c2621-8cce-471a-b684-c465494d086c",
   "metadata": {},
   "outputs": [],
   "source": []
  }
 ],
 "metadata": {
  "kernelspec": {
   "display_name": "Python 3 (ipykernel)",
   "language": "python",
   "name": "python3"
  },
  "language_info": {
   "codemirror_mode": {
    "name": "ipython",
    "version": 3
   },
   "file_extension": ".py",
   "mimetype": "text/x-python",
   "name": "python",
   "nbconvert_exporter": "python",
   "pygments_lexer": "ipython3",
   "version": "3.12.0"
  }
 },
 "nbformat": 4,
 "nbformat_minor": 5
}
