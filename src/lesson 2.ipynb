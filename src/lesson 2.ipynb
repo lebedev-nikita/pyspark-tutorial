{
 "cells": [
  {
   "cell_type": "code",
   "execution_count": 22,
   "id": "c2c039b6-6af2-4da2-b4d9-64453e82215d",
   "metadata": {},
   "outputs": [
    {
     "data": {
      "text/html": [
       "\n",
       "            <div>\n",
       "                <p><b>SparkSession - in-memory</b></p>\n",
       "                \n",
       "        <div>\n",
       "            <p><b>SparkContext</b></p>\n",
       "\n",
       "            <p><a href=\"http://192.168.1.234:4040\">Spark UI</a></p>\n",
       "\n",
       "            <dl>\n",
       "              <dt>Version</dt>\n",
       "                <dd><code>v3.5.0</code></dd>\n",
       "              <dt>Master</dt>\n",
       "                <dd><code>local[*]</code></dd>\n",
       "              <dt>AppName</dt>\n",
       "                <dd><code>DataFrame</code></dd>\n",
       "            </dl>\n",
       "        </div>\n",
       "        \n",
       "            </div>\n",
       "        "
      ],
      "text/plain": [
       "<pyspark.sql.session.SparkSession at 0x110fb3770>"
      ]
     },
     "execution_count": 22,
     "metadata": {},
     "output_type": "execute_result"
    }
   ],
   "source": [
    "from pyspark.sql import SparkSession\n",
    "spark = SparkSession.builder.appName(\"DataFrame\").getOrCreate()\n",
    "spark"
   ]
  },
  {
   "cell_type": "code",
   "execution_count": 23,
   "id": "8f0b2017-d51a-47cc-911d-a029d6cdd31c",
   "metadata": {},
   "outputs": [
    {
     "name": "stdout",
     "output_type": "stream",
     "text": [
      "+---------+---+----------+\n",
      "|     Name|Age|Experience|\n",
      "+---------+---+----------+\n",
      "|    Krish| 31|        10|\n",
      "|Sudhanshu| 30|         4|\n",
      "|    Sunny| 29|         8|\n",
      "+---------+---+----------+\n",
      "\n"
     ]
    }
   ],
   "source": [
    "df_pyspark = spark.read.option(\"header\", \"true\").csv(\"data.csv\", inferSchema=True)\n",
    "df_pyspark.show()"
   ]
  },
  {
   "cell_type": "code",
   "execution_count": 24,
   "id": "06e8bc51-449e-42fb-ba2d-9c8d74c37b9a",
   "metadata": {},
   "outputs": [
    {
     "name": "stdout",
     "output_type": "stream",
     "text": [
      "root\n",
      " |-- Name: string (nullable = true)\n",
      " |-- Age: integer (nullable = true)\n",
      " |-- Experience: integer (nullable = true)\n",
      "\n"
     ]
    }
   ],
   "source": [
    "df_pyspark.printSchema()"
   ]
  },
  {
   "cell_type": "code",
   "execution_count": 25,
   "id": "edc14006-752f-499a-a74e-ac3d880f98d2",
   "metadata": {},
   "outputs": [
    {
     "data": {
      "text/plain": [
       "['Name', 'Age', 'Experience']"
      ]
     },
     "execution_count": 25,
     "metadata": {},
     "output_type": "execute_result"
    }
   ],
   "source": [
    "df_pyspark.columns"
   ]
  },
  {
   "cell_type": "code",
   "execution_count": 26,
   "id": "ea6932eb-c3fe-4929-ba09-7d419d04916e",
   "metadata": {},
   "outputs": [
    {
     "data": {
      "text/plain": [
       "[Row(Name='Krish', Age=31, Experience=10),\n",
       " Row(Name='Sudhanshu', Age=30, Experience=4),\n",
       " Row(Name='Sunny', Age=29, Experience=8)]"
      ]
     },
     "execution_count": 26,
     "metadata": {},
     "output_type": "execute_result"
    }
   ],
   "source": [
    "df = df_pyspark\n",
    "df.head(3)"
   ]
  },
  {
   "cell_type": "code",
   "execution_count": 28,
   "id": "0443589f-7d17-467a-8ac9-148f0ae4e91e",
   "metadata": {},
   "outputs": [
    {
     "name": "stdout",
     "output_type": "stream",
     "text": [
      "+---------+----------+\n",
      "|     Name|Experience|\n",
      "+---------+----------+\n",
      "|    Krish|        10|\n",
      "|Sudhanshu|         4|\n",
      "|    Sunny|         8|\n",
      "+---------+----------+\n",
      "\n"
     ]
    }
   ],
   "source": [
    "df.select([\"Name\", \"Experience\"]).show()"
   ]
  },
  {
   "cell_type": "code",
   "execution_count": 29,
   "id": "f671eacd-cd8b-45bd-a84c-8c1e529962b0",
   "metadata": {},
   "outputs": [
    {
     "data": {
      "text/plain": [
       "[('Name', 'string'), ('Age', 'int'), ('Experience', 'int')]"
      ]
     },
     "execution_count": 29,
     "metadata": {},
     "output_type": "execute_result"
    }
   ],
   "source": [
    "df.dtypes"
   ]
  },
  {
   "cell_type": "code",
   "execution_count": 30,
   "id": "a092a2f7-7557-4f72-8a2f-7317a831587d",
   "metadata": {},
   "outputs": [
    {
     "name": "stdout",
     "output_type": "stream",
     "text": [
      "+---------+---+----------+\n",
      "|     Name|Age|Experience|\n",
      "+---------+---+----------+\n",
      "|    Krish| 31|        10|\n",
      "|Sudhanshu| 30|         4|\n",
      "|    Sunny| 29|         8|\n",
      "+---------+---+----------+\n",
      "\n"
     ]
    }
   ],
   "source": [
    "df.show()"
   ]
  },
  {
   "cell_type": "code",
   "execution_count": 31,
   "id": "7dd2ebcc-5c05-482f-86ae-9c2a6a89a63e",
   "metadata": {},
   "outputs": [
    {
     "name": "stdout",
     "output_type": "stream",
     "text": [
      "+-------+-----+----+------------------+\n",
      "|summary| Name| Age|        Experience|\n",
      "+-------+-----+----+------------------+\n",
      "|  count|    3|   3|                 3|\n",
      "|   mean| NULL|30.0| 7.333333333333333|\n",
      "| stddev| NULL| 1.0|3.0550504633038935|\n",
      "|    min|Krish|  29|                 4|\n",
      "|    max|Sunny|  31|                10|\n",
      "+-------+-----+----+------------------+\n",
      "\n"
     ]
    }
   ],
   "source": [
    "df.describe().show()"
   ]
  },
  {
   "cell_type": "code",
   "execution_count": 39,
   "id": "ed99a73a-76a9-4751-ab66-6ff96b7d2838",
   "metadata": {},
   "outputs": [
    {
     "name": "stdout",
     "output_type": "stream",
     "text": [
      "+---------+---+----------+------------------------+\n",
      "|     Name|Age|Experience|Experience After 2 years|\n",
      "+---------+---+----------+------------------------+\n",
      "|    Krish| 31|        10|                      12|\n",
      "|Sudhanshu| 30|         4|                       6|\n",
      "|    Sunny| 29|         8|                      10|\n",
      "+---------+---+----------+------------------------+\n",
      "\n"
     ]
    }
   ],
   "source": [
    "df = df.withColumn(\"Experience After 2 years\", df['Experience'] + 2)\n",
    "df.show()"
   ]
  },
  {
   "cell_type": "code",
   "execution_count": 41,
   "id": "c100bb66-a450-42f4-ace0-d2b82365ad38",
   "metadata": {},
   "outputs": [
    {
     "name": "stdout",
     "output_type": "stream",
     "text": [
      "+---------+---+------------------------+\n",
      "|     Name|Age|Experience After 2 years|\n",
      "+---------+---+------------------------+\n",
      "|    Krish| 31|                      12|\n",
      "|Sudhanshu| 30|                       6|\n",
      "|    Sunny| 29|                      10|\n",
      "+---------+---+------------------------+\n",
      "\n"
     ]
    }
   ],
   "source": [
    "df = df.drop(\"Experience\")\n",
    "df.show()"
   ]
  },
  {
   "cell_type": "code",
   "execution_count": 43,
   "id": "1eb06330-1305-415e-9d4f-c1d5c5158a29",
   "metadata": {},
   "outputs": [
    {
     "name": "stdout",
     "output_type": "stream",
     "text": [
      "+---------+---+------------------------+\n",
      "| New Name|Age|Experience After 2 years|\n",
      "+---------+---+------------------------+\n",
      "|    Krish| 31|                      12|\n",
      "|Sudhanshu| 30|                       6|\n",
      "|    Sunny| 29|                      10|\n",
      "+---------+---+------------------------+\n",
      "\n"
     ]
    }
   ],
   "source": [
    "df = df.withColumnRenamed(\"Name\", \"New Name\")\n",
    "df.show()"
   ]
  },
  {
   "cell_type": "code",
   "execution_count": null,
   "id": "ea8a84ff-429b-4773-ba84-6f772800389e",
   "metadata": {},
   "outputs": [],
   "source": []
  }
 ],
 "metadata": {
  "kernelspec": {
   "display_name": "Python 3 (ipykernel)",
   "language": "python",
   "name": "python3"
  },
  "language_info": {
   "codemirror_mode": {
    "name": "ipython",
    "version": 3
   },
   "file_extension": ".py",
   "mimetype": "text/x-python",
   "name": "python",
   "nbconvert_exporter": "python",
   "pygments_lexer": "ipython3",
   "version": "3.12.0"
  }
 },
 "nbformat": 4,
 "nbformat_minor": 5
}
