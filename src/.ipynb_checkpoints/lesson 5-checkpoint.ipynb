{
 "cells": [
  {
   "cell_type": "code",
   "execution_count": 28,
   "id": "13bdb5ab-b89f-4d1e-ba8b-94e9c3d628e9",
   "metadata": {},
   "outputs": [
    {
     "name": "stdout",
     "output_type": "stream",
     "text": [
      "+---------+----+----------+------+----------+\n",
      "|     Name| Age|Experience|Salary|Department|\n",
      "+---------+----+----------+------+----------+\n",
      "|    Krish|  31|        10| 65518|       IOT|\n",
      "|Sudhanshu|  30|         4|  4122|       IOT|\n",
      "|    Sunny|  29|         8| 15359|       IOT|\n",
      "|     Sofa|NULL|      NULL| 25359|  Big Data|\n",
      "|     NULL|  29|         8| 35359|   Web Dev|\n",
      "|    Nikky|  29|         8|  NULL|  Big Data|\n",
      "+---------+----+----------+------+----------+\n",
      "\n"
     ]
    }
   ],
   "source": [
    "from pyspark.sql import SparkSession\n",
    "spark = SparkSession.builder.appName(\"Agg\").getOrCreate()\n",
    "df = spark.read.csv('data.csv', header=True, inferSchema=True).na.drop(thresh=3)\n",
    "df.show()"
   ]
  },
  {
   "cell_type": "code",
   "execution_count": 29,
   "id": "bc86a27a-15e1-4f43-9e2d-587dace603d5",
   "metadata": {},
   "outputs": [
    {
     "name": "stdout",
     "output_type": "stream",
     "text": [
      "root\n",
      " |-- Name: string (nullable = true)\n",
      " |-- Age: integer (nullable = true)\n",
      " |-- Experience: integer (nullable = true)\n",
      " |-- Salary: integer (nullable = true)\n",
      " |-- Department: string (nullable = true)\n",
      "\n"
     ]
    }
   ],
   "source": [
    "df.printSchema()"
   ]
  },
  {
   "cell_type": "code",
   "execution_count": 30,
   "id": "d73553b7-6a02-4240-b4f1-32aa0c23760e",
   "metadata": {},
   "outputs": [
    {
     "name": "stdout",
     "output_type": "stream",
     "text": [
      "+----------+--------+---------------+-----------+\n",
      "|Department|sum(Age)|sum(Experience)|sum(Salary)|\n",
      "+----------+--------+---------------+-----------+\n",
      "|   Web Dev|      29|              8|      35359|\n",
      "|       IOT|      90|             22|      84999|\n",
      "|  Big Data|      29|              8|      25359|\n",
      "+----------+--------+---------------+-----------+\n",
      "\n"
     ]
    }
   ],
   "source": [
    "df.groupBy(\"Department\").sum().show()"
   ]
  },
  {
   "cell_type": "code",
   "execution_count": 32,
   "id": "9a2c914f-14d9-4dc3-b0a8-0dde853f8dac",
   "metadata": {},
   "outputs": [
    {
     "name": "stdout",
     "output_type": "stream",
     "text": [
      "+----------+--------+---------------+-----------+\n",
      "|Department|max(Age)|max(Experience)|max(Salary)|\n",
      "+----------+--------+---------------+-----------+\n",
      "|   Web Dev|      29|              8|      35359|\n",
      "|       IOT|      31|             10|      65518|\n",
      "|  Big Data|      29|              8|      25359|\n",
      "+----------+--------+---------------+-----------+\n",
      "\n"
     ]
    }
   ],
   "source": [
    "df.groupBy(\"Department\").max().show()"
   ]
  },
  {
   "cell_type": "code",
   "execution_count": null,
   "id": "5583aa77-3ad4-4cee-b160-f825de6e397f",
   "metadata": {},
   "outputs": [],
   "source": []
  },
  {
   "cell_type": "code",
   "execution_count": null,
   "id": "62b282de-d583-4470-906a-15cfb9c07a08",
   "metadata": {},
   "outputs": [],
   "source": []
  }
 ],
 "metadata": {
  "kernelspec": {
   "display_name": "Python 3 (ipykernel)",
   "language": "python",
   "name": "python3"
  },
  "language_info": {
   "codemirror_mode": {
    "name": "ipython",
    "version": 3
   },
   "file_extension": ".py",
   "mimetype": "text/x-python",
   "name": "python",
   "nbconvert_exporter": "python",
   "pygments_lexer": "ipython3",
   "version": "3.12.0"
  }
 },
 "nbformat": 4,
 "nbformat_minor": 5
}
