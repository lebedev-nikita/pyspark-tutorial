{
 "cells": [
  {
   "cell_type": "code",
   "execution_count": 44,
   "id": "5db48085-cf2f-4364-a09b-91986625ca5f",
   "metadata": {},
   "outputs": [],
   "source": [
    "from pyspark.sql import SparkSession\n",
    "spark = SparkSession.builder.appName(\"Practice\").getOrCreate()"
   ]
  },
  {
   "cell_type": "code",
   "execution_count": 45,
   "id": "94f69dc5-fd59-469e-bb1d-fbebfa738616",
   "metadata": {},
   "outputs": [
    {
     "name": "stdout",
     "output_type": "stream",
     "text": [
      "+---------+----+----------+-------+\n",
      "|     Name| Age|Experience| Salary|\n",
      "+---------+----+----------+-------+\n",
      "|    Krish|  31|        10|6551872|\n",
      "|Sudhanshu|  30|         4| 412234|\n",
      "|    Sunny|  29|         8|8535960|\n",
      "|     Sofa|NULL|      NULL|8535960|\n",
      "|     NULL|  29|         8|8535960|\n",
      "|    Nikky|  29|         8|   NULL|\n",
      "|     NULL|NULL|      NULL|   NULL|\n",
      "+---------+----+----------+-------+\n",
      "\n",
      "root\n",
      " |-- Name: string (nullable = true)\n",
      " |-- Age: integer (nullable = true)\n",
      " |-- Experience: integer (nullable = true)\n",
      " |-- Salary: integer (nullable = true)\n",
      "\n"
     ]
    }
   ],
   "source": [
    "df = spark.read.csv('data.csv', header=True, inferSchema=True)\n",
    "df.show()\n",
    "df.printSchema()"
   ]
  },
  {
   "cell_type": "code",
   "execution_count": 46,
   "id": "5f614484-5966-4ef1-ba1c-4836c7868c9c",
   "metadata": {},
   "outputs": [
    {
     "name": "stdout",
     "output_type": "stream",
     "text": [
      "+---------+---+----------+-------+\n",
      "|     Name|Age|Experience| Salary|\n",
      "+---------+---+----------+-------+\n",
      "|    Krish| 31|        10|6551872|\n",
      "|Sudhanshu| 30|         4| 412234|\n",
      "|    Sunny| 29|         8|8535960|\n",
      "|     NULL| 29|         8|8535960|\n",
      "|    Nikky| 29|         8|   NULL|\n",
      "+---------+---+----------+-------+\n",
      "\n"
     ]
    }
   ],
   "source": [
    "df.na.drop(thresh=3).show()"
   ]
  },
  {
   "cell_type": "code",
   "execution_count": 47,
   "id": "d5069455-ed72-430d-b146-3baaf56a782f",
   "metadata": {},
   "outputs": [
    {
     "name": "stdout",
     "output_type": "stream",
     "text": [
      "+---------+----+----------+-------+\n",
      "|     Name| Age|Experience| Salary|\n",
      "+---------+----+----------+-------+\n",
      "|    Krish|  31|        10|6551872|\n",
      "|Sudhanshu|  30|         4| 412234|\n",
      "|    Sunny|  29|         8|8535960|\n",
      "|     Sofa|NULL|      NULL|8535960|\n",
      "|     NULL|  29|         8|8535960|\n",
      "+---------+----+----------+-------+\n",
      "\n"
     ]
    }
   ],
   "source": [
    "df.na.drop(thresh=1, subset=['Salary']).show()"
   ]
  },
  {
   "cell_type": "code",
   "execution_count": 56,
   "id": "9f088c18-b71d-496e-bc2f-8ddc5eee7313",
   "metadata": {},
   "outputs": [
    {
     "name": "stdout",
     "output_type": "stream",
     "text": [
      "+---------+----+----------+-------+\n",
      "|     Name| Age|Experience| Salary|\n",
      "+---------+----+----------+-------+\n",
      "|    Krish|  31|        10|6551872|\n",
      "|Sudhanshu|  30|         4| 412234|\n",
      "|    Sunny|  29|         8|8535960|\n",
      "|     Sofa|NULL|      NULL|8535960|\n",
      "|     NULL|  29|         8|8535960|\n",
      "|    Nikky|  29|         8|   NULL|\n",
      "|     NULL|NULL|      NULL|   NULL|\n",
      "+---------+----+----------+-------+\n",
      "\n",
      "+---------+---+----------+-------+\n",
      "|     Name|Age|Experience| Salary|\n",
      "+---------+---+----------+-------+\n",
      "|    Krish| 31|        10|6551872|\n",
      "|Sudhanshu| 30|         4| 412234|\n",
      "|    Sunny| 29|         8|8535960|\n",
      "|     Sofa|  0|         0|8535960|\n",
      "|     NULL| 29|         8|8535960|\n",
      "|    Nikky| 29|         8|      0|\n",
      "|     NULL|  0|         0|      0|\n",
      "+---------+---+----------+-------+\n",
      "\n"
     ]
    }
   ],
   "source": [
    "df.show()\n",
    "df.na.fill(0).show()"
   ]
  },
  {
   "cell_type": "code",
   "execution_count": 62,
   "id": "9ba05906-e567-4c63-8ebb-ba276ab87912",
   "metadata": {},
   "outputs": [
    {
     "name": "stdout",
     "output_type": "stream",
     "text": [
      "+---------+----+----------+-------+-----------+------------------+--------------+\n",
      "|     Name| Age|Experience| Salary|Age_imputed|Experience_imputed|Salary_imputed|\n",
      "+---------+----+----------+-------+-----------+------------------+--------------+\n",
      "|    Krish|  31|        10|6551872|         31|                10|       6551872|\n",
      "|Sudhanshu|  30|         4| 412234|         30|                 4|        412234|\n",
      "|    Sunny|  29|         8|8535960|         29|                 8|       8535960|\n",
      "|     Sofa|NULL|      NULL|8535960|         29|                 7|       8535960|\n",
      "|     NULL|  29|         8|8535960|         29|                 8|       8535960|\n",
      "|    Nikky|  29|         8|   NULL|         29|                 8|       6514397|\n",
      "|     NULL|NULL|      NULL|   NULL|         29|                 7|       6514397|\n",
      "+---------+----+----------+-------+-----------+------------------+--------------+\n",
      "\n"
     ]
    }
   ],
   "source": [
    "from pyspark.ml.feature import Imputer\n",
    "\n",
    "imputer = Imputer(\n",
    "    inputCols=['Age', 'Experience', 'Salary'],\n",
    "    outputCols=[\"{}_imputed\".format(c) for c in ['Age', 'Experience', 'Salary']]\n",
    ").setStrategy('mean')\n",
    "\n",
    "imputer.fit(df).transform(df).show()"
   ]
  },
  {
   "cell_type": "code",
   "execution_count": null,
   "id": "4af28c08-db54-4333-93db-e4a72482c10e",
   "metadata": {},
   "outputs": [],
   "source": []
  },
  {
   "cell_type": "code",
   "execution_count": null,
   "id": "b12dbe6b-ed37-45a2-82cb-0526ab2c48b4",
   "metadata": {},
   "outputs": [],
   "source": []
  }
 ],
 "metadata": {
  "kernelspec": {
   "display_name": "Python 3 (ipykernel)",
   "language": "python",
   "name": "python3"
  },
  "language_info": {
   "codemirror_mode": {
    "name": "ipython",
    "version": 3
   },
   "file_extension": ".py",
   "mimetype": "text/x-python",
   "name": "python",
   "nbconvert_exporter": "python",
   "pygments_lexer": "ipython3",
   "version": "3.12.0"
  }
 },
 "nbformat": 4,
 "nbformat_minor": 5
}
